{
 "cells": [
  {
   "cell_type": "markdown",
   "metadata": {},
   "source": [
    "# DWS_RegEx_Naukri Website"
   ]
  },
  {
   "cell_type": "code",
   "execution_count": 2,
   "metadata": {},
   "outputs": [],
   "source": [
    "import pandas as pd\n",
    "import bs4\n",
    "import selenium\n",
    "import requests\n",
    "\n",
    "from selenium import webdriver"
   ]
  },
  {
   "cell_type": "code",
   "execution_count": 4,
   "metadata": {},
   "outputs": [],
   "source": [
    "naukri = pd.read_csv('naukri_jobs_datascience.csv')"
   ]
  },
  {
   "cell_type": "code",
   "execution_count": 5,
   "metadata": {},
   "outputs": [
    {
     "data": {
      "text/html": [
       "<div>\n",
       "<style scoped>\n",
       "    .dataframe tbody tr th:only-of-type {\n",
       "        vertical-align: middle;\n",
       "    }\n",
       "\n",
       "    .dataframe tbody tr th {\n",
       "        vertical-align: top;\n",
       "    }\n",
       "\n",
       "    .dataframe thead th {\n",
       "        text-align: right;\n",
       "    }\n",
       "</style>\n",
       "<table border=\"1\" class=\"dataframe\">\n",
       "  <thead>\n",
       "    <tr style=\"text-align: right;\">\n",
       "      <th></th>\n",
       "      <th>id</th>\n",
       "      <th>title</th>\n",
       "      <th>location</th>\n",
       "      <th>experience</th>\n",
       "      <th>skills</th>\n",
       "      <th>company</th>\n",
       "      <th>salary</th>\n",
       "      <th>description</th>\n",
       "      <th>posted_date</th>\n",
       "      <th>type</th>\n",
       "      <th>url</th>\n",
       "    </tr>\n",
       "  </thead>\n",
       "  <tbody>\n",
       "    <tr>\n",
       "      <th>0</th>\n",
       "      <td>280918001664</td>\n",
       "      <td>Data Science</td>\n",
       "      <td>Mumbai</td>\n",
       "      <td>2-4 yrs</td>\n",
       "      <td>Algorithms, Machine Learning, Python, Java, Da...</td>\n",
       "      <td>Netcore Solutions Pvt Ltd</td>\n",
       "      <td>2,00,000 - 7,00,000 P.A.</td>\n",
       "      <td>At least 2 year of experience in data engineer...</td>\n",
       "      <td>1 day ago</td>\n",
       "      <td>hotjob</td>\n",
       "      <td>https://www.naukri.com/job-listings-Data-Scien...</td>\n",
       "    </tr>\n",
       "    <tr>\n",
       "      <th>1</th>\n",
       "      <td>280818003404</td>\n",
       "      <td>Analyst / Sr. Analyst (data Science)</td>\n",
       "      <td>Gurgaon</td>\n",
       "      <td>5-8 yrs</td>\n",
       "      <td>predictive modeling, predictive analytics, mac...</td>\n",
       "      <td>Cvent India Pvt. Ltd.</td>\n",
       "      <td>5,00,000 - 10,00,000 P.A.</td>\n",
       "      <td>Strong experience on providing predictive mode...</td>\n",
       "      <td>Today</td>\n",
       "      <td>hotjob</td>\n",
       "      <td>https://www.naukri.com/job-listings-Analyst-Sr...</td>\n",
       "    </tr>\n",
       "    <tr>\n",
       "      <th>2</th>\n",
       "      <td>280918008755</td>\n",
       "      <td>ETL Lead &amp; Data Science</td>\n",
       "      <td>Chennai, Bengaluru, Mumbai, Pune, Noida</td>\n",
       "      <td>7-10 yrs</td>\n",
       "      <td>SQL, Data Analysis, Text Mining, SAS, R, Stati...</td>\n",
       "      <td>COMPUTER POWER GROUP PRIVATE LIMITED</td>\n",
       "      <td>10,00,000 - 15,00,000 P.A.</td>\n",
       "      <td>Industry experience in building and operationa...</td>\n",
       "      <td>1 day ago</td>\n",
       "      <td>hotjob</td>\n",
       "      <td>https://www.naukri.com/job-listings-ETL-Lead-D...</td>\n",
       "    </tr>\n",
       "    <tr>\n",
       "      <th>3</th>\n",
       "      <td>270918901342</td>\n",
       "      <td>Specialist - Data Science</td>\n",
       "      <td>Delhi NCR, Bengaluru, Gurgaon</td>\n",
       "      <td>7-12 yrs</td>\n",
       "      <td>Specialist - Data Science, Data Science, data ...</td>\n",
       "      <td>Brainsearch Consulting Pvt Ltd.Â</td>\n",
       "      <td>Not disclosed</td>\n",
       "      <td>- Experience with one or more data science pro...</td>\n",
       "      <td>1 day ago</td>\n",
       "      <td>premium</td>\n",
       "      <td>https://www.naukri.com/job-listings-Specialist...</td>\n",
       "    </tr>\n",
       "    <tr>\n",
       "      <th>4</th>\n",
       "      <td>260918002450</td>\n",
       "      <td>Group Manager - Data Science - Python/nlp</td>\n",
       "      <td>Bengaluru</td>\n",
       "      <td>6-11 yrs</td>\n",
       "      <td>machine learning, text mining, r, nlp, data sc...</td>\n",
       "      <td>Staffio HR</td>\n",
       "      <td>Not disclosed</td>\n",
       "      <td>- This is a Team management role  - Skill set ...</td>\n",
       "      <td>1 day ago</td>\n",
       "      <td>premium</td>\n",
       "      <td>https://www.naukri.com/job-listings-Group-Mana...</td>\n",
       "    </tr>\n",
       "  </tbody>\n",
       "</table>\n",
       "</div>"
      ],
      "text/plain": [
       "             id                                      title  \\\n",
       "0  280918001664                               Data Science   \n",
       "1  280818003404       Analyst / Sr. Analyst (data Science)   \n",
       "2  280918008755                    ETL Lead & Data Science   \n",
       "3  270918901342                  Specialist - Data Science   \n",
       "4  260918002450  Group Manager - Data Science - Python/nlp   \n",
       "\n",
       "                                  location experience  \\\n",
       "0                                   Mumbai    2-4 yrs   \n",
       "1                                  Gurgaon    5-8 yrs   \n",
       "2  Chennai, Bengaluru, Mumbai, Pune, Noida   7-10 yrs   \n",
       "3            Delhi NCR, Bengaluru, Gurgaon   7-12 yrs   \n",
       "4                                Bengaluru   6-11 yrs   \n",
       "\n",
       "                                              skills  \\\n",
       "0  Algorithms, Machine Learning, Python, Java, Da...   \n",
       "1  predictive modeling, predictive analytics, mac...   \n",
       "2  SQL, Data Analysis, Text Mining, SAS, R, Stati...   \n",
       "3  Specialist - Data Science, Data Science, data ...   \n",
       "4  machine learning, text mining, r, nlp, data sc...   \n",
       "\n",
       "                                company                            salary  \\\n",
       "0             Netcore Solutions Pvt Ltd        2,00,000 - 7,00,000 P.A.     \n",
       "1                 Cvent India Pvt. Ltd.       5,00,000 - 10,00,000 P.A.     \n",
       "2  COMPUTER POWER GROUP PRIVATE LIMITED      10,00,000 - 15,00,000 P.A.     \n",
       "3     Brainsearch Consulting Pvt Ltd.Â                     Not disclosed    \n",
       "4                            Staffio HR                    Not disclosed    \n",
       "\n",
       "                                         description posted_date     type  \\\n",
       "0  At least 2 year of experience in data engineer...   1 day ago   hotjob   \n",
       "1  Strong experience on providing predictive mode...       Today   hotjob   \n",
       "2  Industry experience in building and operationa...   1 day ago   hotjob   \n",
       "3  - Experience with one or more data science pro...   1 day ago  premium   \n",
       "4  - This is a Team management role  - Skill set ...   1 day ago  premium   \n",
       "\n",
       "                                                 url  \n",
       "0  https://www.naukri.com/job-listings-Data-Scien...  \n",
       "1  https://www.naukri.com/job-listings-Analyst-Sr...  \n",
       "2  https://www.naukri.com/job-listings-ETL-Lead-D...  \n",
       "3  https://www.naukri.com/job-listings-Specialist...  \n",
       "4  https://www.naukri.com/job-listings-Group-Mana...  "
      ]
     },
     "execution_count": 5,
     "metadata": {},
     "output_type": "execute_result"
    }
   ],
   "source": [
    "naukri.head()"
   ]
  },
  {
   "cell_type": "code",
   "execution_count": 6,
   "metadata": {},
   "outputs": [
    {
     "data": {
      "text/plain": [
       "0          2,00,000 - 7,00,000 P.A.  \n",
       "1         5,00,000 - 10,00,000 P.A.  \n",
       "2        10,00,000 - 15,00,000 P.A.  \n",
       "3                      Not disclosed \n",
       "4                      Not disclosed \n",
       "5          2,00,000 - 4,25,000 P.A.  \n",
       "6          4,00,000 - 8,00,000 P.A.  \n",
       "7                      Not disclosed \n",
       "8                      Not disclosed \n",
       "9                      Not disclosed \n",
       "Name: salary, dtype: object"
      ]
     },
     "execution_count": 6,
     "metadata": {},
     "output_type": "execute_result"
    }
   ],
   "source": [
    "naukri['salary'].head(10)"
   ]
  },
  {
   "cell_type": "markdown",
   "metadata": {},
   "source": [
    "## Regex to remove alphabets"
   ]
  },
  {
   "cell_type": "code",
   "execution_count": 8,
   "metadata": {},
   "outputs": [
    {
     "data": {
      "text/plain": [
       "0          2,00,000 - 7,00,000 -  \n",
       "1         5,00,000 - 10,00,000 -  \n",
       "2        10,00,000 - 15,00,000 -  \n",
       "3                   Not disclosed \n",
       "4                   Not disclosed \n",
       "Name: salary, dtype: object"
      ]
     },
     "execution_count": 8,
     "metadata": {},
     "output_type": "execute_result"
    }
   ],
   "source": [
    "naukri['salary'].str.replace('P.A.','-').head(5)\n",
    "\n",
    "# if specify empty, it will remove those strings"
   ]
  },
  {
   "cell_type": "code",
   "execution_count": 13,
   "metadata": {},
   "outputs": [
    {
     "data": {
      "text/plain": [
       "0          2,00,000 - 7,00,000 P.A.  \n",
       "1         5,00,000 - 10,00,000 P.A.  \n",
       "2        10,00,000 - 15,00,000 P.A.  \n",
       "3                                 N  \n",
       "4                                 N  \n",
       "Name: salary, dtype: object"
      ]
     },
     "execution_count": 13,
     "metadata": {},
     "output_type": "execute_result"
    }
   ],
   "source": [
    "naukri['salary'].str.replace('[a-z]','').head(5)"
   ]
  },
  {
   "cell_type": "code",
   "execution_count": 15,
   "metadata": {},
   "outputs": [
    {
     "data": {
      "text/plain": [
       "0          2,00,000 - 7,00,000 ..  \n",
       "1         5,00,000 - 10,00,000 ..  \n",
       "2        10,00,000 - 15,00,000 ..  \n",
       "3                                  \n",
       "4                                  \n",
       "Name: salary, dtype: object"
      ]
     },
     "execution_count": 15,
     "metadata": {},
     "output_type": "execute_result"
    }
   ],
   "source": [
    "naukri['salary'].str.replace('[a-zA-Z]','').head(5)"
   ]
  },
  {
   "cell_type": "markdown",
   "metadata": {},
   "source": [
    "## Regex to remove numbers"
   ]
  },
  {
   "cell_type": "code",
   "execution_count": 16,
   "metadata": {},
   "outputs": [
    {
     "data": {
      "text/plain": [
       "0        ,, - ,, P.A.  \n",
       "1        ,, - ,, P.A.  \n",
       "2        ,, - ,, P.A.  \n",
       "3        Not disclosed \n",
       "4        Not disclosed \n",
       "Name: salary, dtype: object"
      ]
     },
     "execution_count": 16,
     "metadata": {},
     "output_type": "execute_result"
    }
   ],
   "source": [
    "naukri['salary'].str.replace('[0-9]','').head(5)"
   ]
  },
  {
   "cell_type": "markdown",
   "metadata": {},
   "source": [
    "## Regex to remove numbers and alphabets"
   ]
  },
  {
   "cell_type": "code",
   "execution_count": 17,
   "metadata": {},
   "outputs": [
    {
     "data": {
      "text/plain": [
       "0        ,, - ,, ..  \n",
       "1        ,, - ,, ..  \n",
       "2        ,, - ,, ..  \n",
       "3                    \n",
       "4                    \n",
       "Name: salary, dtype: object"
      ]
     },
     "execution_count": 17,
     "metadata": {},
     "output_type": "execute_result"
    }
   ],
   "source": [
    "naukri['salary'].str.replace('[a-zA-Z0-9]','').head(5)"
   ]
  },
  {
   "cell_type": "markdown",
   "metadata": {},
   "source": [
    "## Retain alphabets and remove everything else"
   ]
  },
  {
   "cell_type": "code",
   "execution_count": 18,
   "metadata": {},
   "outputs": [
    {
     "data": {
      "text/plain": [
       "0              PA\n",
       "1              PA\n",
       "2              PA\n",
       "3    Notdisclosed\n",
       "4    Notdisclosed\n",
       "Name: salary, dtype: object"
      ]
     },
     "execution_count": 18,
     "metadata": {},
     "output_type": "execute_result"
    }
   ],
   "source": [
    "naukri['salary'].str.replace('[^a-zA-Z]', '').head(5)"
   ]
  },
  {
   "cell_type": "code",
   "execution_count": 21,
   "metadata": {},
   "outputs": [
    {
     "data": {
      "text/plain": [
       "0                PA  \n",
       "1                PA  \n",
       "2                PA  \n",
       "3      Not disclosed \n",
       "4      Not disclosed \n",
       "Name: salary, dtype: object"
      ]
     },
     "execution_count": 21,
     "metadata": {},
     "output_type": "execute_result"
    }
   ],
   "source": [
    "naukri['salary'].str.replace('[^a-zA-Z ]', '').head(5)"
   ]
  },
  {
   "cell_type": "code",
   "execution_count": 22,
   "metadata": {},
   "outputs": [
    {
     "data": {
      "text/plain": [
       "0              P.A.  \n",
       "1              P.A.  \n",
       "2              P.A.  \n",
       "3      Not disclosed \n",
       "4      Not disclosed \n",
       "Name: salary, dtype: object"
      ]
     },
     "execution_count": 22,
     "metadata": {},
     "output_type": "execute_result"
    }
   ],
   "source": [
    "naukri['salary'].str.replace('[^a-zA-Z .]', '').head(5)"
   ]
  },
  {
   "cell_type": "markdown",
   "metadata": {},
   "source": [
    "## Retain numbers and remove everything else"
   ]
  },
  {
   "cell_type": "code",
   "execution_count": 25,
   "metadata": {},
   "outputs": [
    {
     "data": {
      "text/plain": [
       "0      200000700000\n",
       "1     5000001000000\n",
       "2    10000001500000\n",
       "3                  \n",
       "4                  \n",
       "Name: salary, dtype: object"
      ]
     },
     "execution_count": 25,
     "metadata": {},
     "output_type": "execute_result"
    }
   ],
   "source": [
    "naukri['salary'].str.replace('[^0-9]', '').head(5)"
   ]
  },
  {
   "cell_type": "code",
   "execution_count": 26,
   "metadata": {},
   "outputs": [
    {
     "data": {
      "text/plain": [
       "0      200000-700000\n",
       "1     500000-1000000\n",
       "2    1000000-1500000\n",
       "3                   \n",
       "4                   \n",
       "Name: salary, dtype: object"
      ]
     },
     "execution_count": 26,
     "metadata": {},
     "output_type": "execute_result"
    }
   ],
   "source": [
    "naukri['salary'].str.replace('[^0-9-]', '').head(5)"
   ]
  },
  {
   "cell_type": "markdown",
   "metadata": {},
   "source": [
    "## RegEx Split function"
   ]
  },
  {
   "cell_type": "code",
   "execution_count": 27,
   "metadata": {},
   "outputs": [
    {
     "data": {
      "text/plain": [
       "'20000'"
      ]
     },
     "execution_count": 27,
     "metadata": {},
     "output_type": "execute_result"
    }
   ],
   "source": [
    "x = '20000-70000'\n",
    "x.split('-')[0]"
   ]
  },
  {
   "cell_type": "code",
   "execution_count": 28,
   "metadata": {},
   "outputs": [
    {
     "data": {
      "text/plain": [
       "'70000'"
      ]
     },
     "execution_count": 28,
     "metadata": {},
     "output_type": "execute_result"
    }
   ],
   "source": [
    "x = '20000-70000'\n",
    "x.split('-')[1]"
   ]
  },
  {
   "cell_type": "markdown",
   "metadata": {},
   "source": [
    "## RegEx operations"
   ]
  },
  {
   "cell_type": "code",
   "execution_count": 29,
   "metadata": {},
   "outputs": [
    {
     "data": {
      "text/html": [
       "<div>\n",
       "<style scoped>\n",
       "    .dataframe tbody tr th:only-of-type {\n",
       "        vertical-align: middle;\n",
       "    }\n",
       "\n",
       "    .dataframe tbody tr th {\n",
       "        vertical-align: top;\n",
       "    }\n",
       "\n",
       "    .dataframe thead th {\n",
       "        text-align: right;\n",
       "    }\n",
       "</style>\n",
       "<table border=\"1\" class=\"dataframe\">\n",
       "  <thead>\n",
       "    <tr style=\"text-align: right;\">\n",
       "      <th></th>\n",
       "      <th>salary</th>\n",
       "      <th>salary_regex</th>\n",
       "    </tr>\n",
       "  </thead>\n",
       "  <tbody>\n",
       "    <tr>\n",
       "      <th>0</th>\n",
       "      <td>2,00,000 - 7,00,000 P.A.</td>\n",
       "      <td>200000-700000</td>\n",
       "    </tr>\n",
       "    <tr>\n",
       "      <th>1</th>\n",
       "      <td>5,00,000 - 10,00,000 P.A.</td>\n",
       "      <td>500000-1000000</td>\n",
       "    </tr>\n",
       "    <tr>\n",
       "      <th>2</th>\n",
       "      <td>10,00,000 - 15,00,000 P.A.</td>\n",
       "      <td>1000000-1500000</td>\n",
       "    </tr>\n",
       "    <tr>\n",
       "      <th>3</th>\n",
       "      <td>Not disclosed</td>\n",
       "      <td></td>\n",
       "    </tr>\n",
       "    <tr>\n",
       "      <th>4</th>\n",
       "      <td>Not disclosed</td>\n",
       "      <td></td>\n",
       "    </tr>\n",
       "  </tbody>\n",
       "</table>\n",
       "</div>"
      ],
      "text/plain": [
       "                             salary     salary_regex\n",
       "0        2,00,000 - 7,00,000 P.A.      200000-700000\n",
       "1       5,00,000 - 10,00,000 P.A.     500000-1000000\n",
       "2      10,00,000 - 15,00,000 P.A.    1000000-1500000\n",
       "3                    Not disclosed                  \n",
       "4                    Not disclosed                  "
      ]
     },
     "execution_count": 29,
     "metadata": {},
     "output_type": "execute_result"
    }
   ],
   "source": [
    "naukri['salary_regex'] = naukri['salary'].str.replace('[^0-9-]', '')\n",
    "naukri[['salary','salary_regex']].head()"
   ]
  },
  {
   "cell_type": "code",
   "execution_count": 63,
   "metadata": {},
   "outputs": [],
   "source": [
    "def get_salary(value,type_salary):\n",
    "    if(type_salary == 'low'):\n",
    "        try:\n",
    "            return float(value.split('-')[0])\n",
    "        except:\n",
    "            return 0\n",
    "    else:\n",
    "        try:\n",
    "            return float(value.split('-')[1])\n",
    "        except:\n",
    "            return 0"
   ]
  },
  {
   "cell_type": "code",
   "execution_count": 64,
   "metadata": {},
   "outputs": [
    {
     "name": "stdout",
     "output_type": "stream",
     "text": [
      "20000.0\n",
      "70000.0\n",
      "50000.0\n",
      "0\n"
     ]
    }
   ],
   "source": [
    "print(get_salary(x,'low'))\n",
    "print(get_salary(x,'high'))\n",
    "print(get_salary('50000','low'))\n",
    "#print(get_salary('','low'))\n",
    "print(get_salary('50000','high'))"
   ]
  },
  {
   "cell_type": "code",
   "execution_count": 65,
   "metadata": {},
   "outputs": [],
   "source": [
    "naukri['sal_low'] = naukri['salary_regex'].apply(lambda v: get_salary(v,'low'))\n",
    "\n",
    "naukri['sal_high'] = naukri['salary_regex'].apply(lambda v: get_salary(v,'high'))"
   ]
  },
  {
   "cell_type": "code",
   "execution_count": 44,
   "metadata": {},
   "outputs": [
    {
     "data": {
      "text/html": [
       "<div>\n",
       "<style scoped>\n",
       "    .dataframe tbody tr th:only-of-type {\n",
       "        vertical-align: middle;\n",
       "    }\n",
       "\n",
       "    .dataframe tbody tr th {\n",
       "        vertical-align: top;\n",
       "    }\n",
       "\n",
       "    .dataframe thead th {\n",
       "        text-align: right;\n",
       "    }\n",
       "</style>\n",
       "<table border=\"1\" class=\"dataframe\">\n",
       "  <thead>\n",
       "    <tr style=\"text-align: right;\">\n",
       "      <th></th>\n",
       "      <th>salary</th>\n",
       "      <th>sal_low</th>\n",
       "      <th>sal_high</th>\n",
       "    </tr>\n",
       "  </thead>\n",
       "  <tbody>\n",
       "    <tr>\n",
       "      <th>0</th>\n",
       "      <td>2,00,000 - 7,00,000 P.A.</td>\n",
       "      <td>200000</td>\n",
       "      <td>700000</td>\n",
       "    </tr>\n",
       "    <tr>\n",
       "      <th>1</th>\n",
       "      <td>5,00,000 - 10,00,000 P.A.</td>\n",
       "      <td>500000</td>\n",
       "      <td>1000000</td>\n",
       "    </tr>\n",
       "    <tr>\n",
       "      <th>2</th>\n",
       "      <td>10,00,000 - 15,00,000 P.A.</td>\n",
       "      <td>1000000</td>\n",
       "      <td>1500000</td>\n",
       "    </tr>\n",
       "    <tr>\n",
       "      <th>3</th>\n",
       "      <td>Not disclosed</td>\n",
       "      <td></td>\n",
       "      <td>0</td>\n",
       "    </tr>\n",
       "    <tr>\n",
       "      <th>4</th>\n",
       "      <td>Not disclosed</td>\n",
       "      <td></td>\n",
       "      <td>0</td>\n",
       "    </tr>\n",
       "  </tbody>\n",
       "</table>\n",
       "</div>"
      ],
      "text/plain": [
       "                             salary  sal_low sal_high\n",
       "0        2,00,000 - 7,00,000 P.A.     200000   700000\n",
       "1       5,00,000 - 10,00,000 P.A.     500000  1000000\n",
       "2      10,00,000 - 15,00,000 P.A.    1000000  1500000\n",
       "3                    Not disclosed                  0\n",
       "4                    Not disclosed                  0"
      ]
     },
     "execution_count": 44,
     "metadata": {},
     "output_type": "execute_result"
    }
   ],
   "source": [
    "naukri[['salary','sal_low','sal_high']].head()"
   ]
  },
  {
   "cell_type": "code",
   "execution_count": 66,
   "metadata": {},
   "outputs": [
    {
     "data": {
      "text/plain": [
       "<matplotlib.axes._subplots.AxesSubplot at 0x24853c209e8>"
      ]
     },
     "execution_count": 66,
     "metadata": {},
     "output_type": "execute_result"
    },
    {
     "data": {
      "image/png": "[encoded data removed]",
      "text/plain": [
       "<matplotlib.figure.Figure at 0x248551c2978>"
      ]
     },
     "metadata": {},
     "output_type": "display_data"
    }
   ],
   "source": [
    "%matplotlib inline\n",
    "naukri['sal_low'].plot.hist()"
   ]
  },
  {
   "cell_type": "code",
   "execution_count": 67,
   "metadata": {},
   "outputs": [
    {
     "data": {
      "text/plain": [
       "<matplotlib.axes._subplots.AxesSubplot at 0x24853a49d68>"
      ]
     },
     "execution_count": 67,
     "metadata": {},
     "output_type": "execute_result"
    },
    {
     "data": {
      "image/png": "[encoded data removed]",
      "text/plain": [
       "<matplotlib.figure.Figure at 0x24853a68c18>"
      ]
     },
     "metadata": {},
     "output_type": "display_data"
    }
   ],
   "source": [
    "naukri['sal_low'].plot.box()"
   ]
  },
  {
   "cell_type": "code",
   "execution_count": 74,
   "metadata": {},
   "outputs": [
    {
     "data": {
      "text/plain": [
       "<matplotlib.axes._subplots.AxesSubplot at 0x248553fe080>"
      ]
     },
     "execution_count": 74,
     "metadata": {},
     "output_type": "execute_result"
    },
    {
     "data": {
      "image/png": "[encoded data removed]",
      "text/plain": [
       "<matplotlib.figure.Figure at 0x24855407780>"
      ]
     },
     "metadata": {},
     "output_type": "display_data"
    }
   ],
   "source": [
    "subset = naukri[(naukri['sal_low'] != 0) & (naukri['sal_low'] < 500000)]\n",
    "subset['sal_low'].plot.box(showfliers = False)"
   ]
  },
  {
   "cell_type": "code",
   "execution_count": 69,
   "metadata": {},
   "outputs": [
    {
     "data": {
      "text/plain": [
       "<matplotlib.axes._subplots.AxesSubplot at 0x24854f75860>"
      ]
     },
     "execution_count": 69,
     "metadata": {},
     "output_type": "execute_result"
    },
    {
     "data": {
      "image/png": "[encoded data removed]",
      "text/plain": [
       "<matplotlib.figure.Figure at 0x24855273390>"
      ]
     },
     "metadata": {},
     "output_type": "display_data"
    }
   ],
   "source": [
    "naukri['sal_high'].plot.box()"
   ]
  },
  {
   "cell_type": "code",
   "execution_count": 79,
   "metadata": {},
   "outputs": [
    {
     "data": {
      "text/plain": [
       "<matplotlib.axes._subplots.AxesSubplot at 0x248558d2320>"
      ]
     },
     "execution_count": 79,
     "metadata": {},
     "output_type": "execute_result"
    },
    {
     "data": {
      "image/png": "[encoded data removed]",
      "text/plain": [
       "<matplotlib.figure.Figure at 0x248558236a0>"
      ]
     },
     "metadata": {},
     "output_type": "display_data"
    }
   ],
   "source": [
    "subset = naukri[(naukri['sal_high'] != 0) & (naukri['sal_high'] < 5000000)]\n",
    "subset['sal_high'].plot.box(showfliers = False)"
   ]
  },
  {
   "cell_type": "markdown",
   "metadata": {},
   "source": [
    "## APPLY Functions"
   ]
  },
  {
   "cell_type": "code",
   "execution_count": 52,
   "metadata": {},
   "outputs": [
    {
     "data": {
      "text/html": [
       "<div>\n",
       "<style scoped>\n",
       "    .dataframe tbody tr th:only-of-type {\n",
       "        vertical-align: middle;\n",
       "    }\n",
       "\n",
       "    .dataframe tbody tr th {\n",
       "        vertical-align: top;\n",
       "    }\n",
       "\n",
       "    .dataframe thead th {\n",
       "        text-align: right;\n",
       "    }\n",
       "</style>\n",
       "<table border=\"1\" class=\"dataframe\">\n",
       "  <thead>\n",
       "    <tr style=\"text-align: right;\">\n",
       "      <th></th>\n",
       "      <th>A</th>\n",
       "    </tr>\n",
       "  </thead>\n",
       "  <tbody>\n",
       "    <tr>\n",
       "      <th>0</th>\n",
       "      <td>1</td>\n",
       "    </tr>\n",
       "    <tr>\n",
       "      <th>1</th>\n",
       "      <td>2</td>\n",
       "    </tr>\n",
       "    <tr>\n",
       "      <th>2</th>\n",
       "      <td>4</td>\n",
       "    </tr>\n",
       "    <tr>\n",
       "      <th>3</th>\n",
       "      <td>5</td>\n",
       "    </tr>\n",
       "  </tbody>\n",
       "</table>\n",
       "</div>"
      ],
      "text/plain": [
       "   A\n",
       "0  1\n",
       "1  2\n",
       "2  4\n",
       "3  5"
      ]
     },
     "execution_count": 52,
     "metadata": {},
     "output_type": "execute_result"
    }
   ],
   "source": [
    "df = pd.DataFrame([1,2,4,5],columns = ['A'])\n",
    "df"
   ]
  },
  {
   "cell_type": "code",
   "execution_count": 53,
   "metadata": {},
   "outputs": [
    {
     "data": {
      "text/plain": [
       "0     1\n",
       "1     4\n",
       "2    16\n",
       "3    25\n",
       "Name: A, dtype: int64"
      ]
     },
     "execution_count": 53,
     "metadata": {},
     "output_type": "execute_result"
    }
   ],
   "source": [
    "df['A'].apply(lambda v: v*v)"
   ]
  },
  {
   "cell_type": "code",
   "execution_count": 54,
   "metadata": {},
   "outputs": [
    {
     "data": {
      "text/plain": [
       "0    False\n",
       "1    False\n",
       "2     True\n",
       "3     True\n",
       "Name: A, dtype: bool"
      ]
     },
     "execution_count": 54,
     "metadata": {},
     "output_type": "execute_result"
    }
   ],
   "source": [
    "df['A'].apply(lambda v: True if v>2 else False)"
   ]
  },
  {
   "cell_type": "code",
   "execution_count": 81,
   "metadata": {},
   "outputs": [
    {
     "data": {
      "text/html": [
       "<div>\n",
       "<style scoped>\n",
       "    .dataframe tbody tr th:only-of-type {\n",
       "        vertical-align: middle;\n",
       "    }\n",
       "\n",
       "    .dataframe tbody tr th {\n",
       "        vertical-align: top;\n",
       "    }\n",
       "\n",
       "    .dataframe thead th {\n",
       "        text-align: right;\n",
       "    }\n",
       "</style>\n",
       "<table border=\"1\" class=\"dataframe\">\n",
       "  <thead>\n",
       "    <tr style=\"text-align: right;\">\n",
       "      <th></th>\n",
       "      <th>A</th>\n",
       "      <th>B</th>\n",
       "    </tr>\n",
       "  </thead>\n",
       "  <tbody>\n",
       "    <tr>\n",
       "      <th>0</th>\n",
       "      <td>1</td>\n",
       "      <td>1</td>\n",
       "    </tr>\n",
       "    <tr>\n",
       "      <th>1</th>\n",
       "      <td>2</td>\n",
       "      <td>4</td>\n",
       "    </tr>\n",
       "    <tr>\n",
       "      <th>2</th>\n",
       "      <td>4</td>\n",
       "      <td>16</td>\n",
       "    </tr>\n",
       "    <tr>\n",
       "      <th>3</th>\n",
       "      <td>5</td>\n",
       "      <td>25</td>\n",
       "    </tr>\n",
       "  </tbody>\n",
       "</table>\n",
       "</div>"
      ],
      "text/plain": [
       "   A   B\n",
       "0  1   1\n",
       "1  2   4\n",
       "2  4  16\n",
       "3  5  25"
      ]
     },
     "execution_count": 81,
     "metadata": {},
     "output_type": "execute_result"
    }
   ],
   "source": [
    "def square_num(value,operation):\n",
    "    if operation =='add':\n",
    "        return value+value\n",
    "    if operation == 'square':\n",
    "        return value*value\n",
    "df['B'] = df['A'].apply(lambda v:square_num(v,'square'))    \n",
    "df"
   ]
  },
  {
   "cell_type": "code",
   "execution_count": 83,
   "metadata": {},
   "outputs": [
    {
     "data": {
      "text/html": [
       "<div>\n",
       "<style scoped>\n",
       "    .dataframe tbody tr th:only-of-type {\n",
       "        vertical-align: middle;\n",
       "    }\n",
       "\n",
       "    .dataframe tbody tr th {\n",
       "        vertical-align: top;\n",
       "    }\n",
       "\n",
       "    .dataframe thead th {\n",
       "        text-align: right;\n",
       "    }\n",
       "</style>\n",
       "<table border=\"1\" class=\"dataframe\">\n",
       "  <thead>\n",
       "    <tr style=\"text-align: right;\">\n",
       "      <th></th>\n",
       "      <th>text</th>\n",
       "    </tr>\n",
       "  </thead>\n",
       "  <tbody>\n",
       "    <tr>\n",
       "      <th>0</th>\n",
       "      <td>this is sentence with 123 and ^&amp;#</td>\n",
       "    </tr>\n",
       "    <tr>\n",
       "      <th>1</th>\n",
       "      <td>my email id is abc@gmail.com</td>\n",
       "    </tr>\n",
       "    <tr>\n",
       "      <th>2</th>\n",
       "      <td>my phone number is 8971856021</td>\n",
       "    </tr>\n",
       "    <tr>\n",
       "      <th>3</th>\n",
       "      <td>my pincode is 123456</td>\n",
       "    </tr>\n",
       "  </tbody>\n",
       "</table>\n",
       "</div>"
      ],
      "text/plain": [
       "                                text\n",
       "0  this is sentence with 123 and ^&#\n",
       "1       my email id is abc@gmail.com\n",
       "2      my phone number is 8971856021\n",
       "3               my pincode is 123456"
      ]
     },
     "execution_count": 83,
     "metadata": {},
     "output_type": "execute_result"
    }
   ],
   "source": [
    "df = pd.DataFrame(['this is sentence with 123 and ^&#',\n",
    "                  'my email id is abc@gmail.com',\n",
    "                  'my phone number is 8971856021',\n",
    "                  'my pincode is 123456'],\n",
    "                 columns = ['text'])\n",
    "df"
   ]
  },
  {
   "cell_type": "code",
   "execution_count": 87,
   "metadata": {},
   "outputs": [
    {
     "data": {
      "text/plain": [
       "0           123\n",
       "1              \n",
       "2    8971856021\n",
       "3        123456\n",
       "Name: text, dtype: object"
      ]
     },
     "execution_count": 87,
     "metadata": {},
     "output_type": "execute_result"
    }
   ],
   "source": [
    "import re\n",
    "df['text'].str.replace('[^0-9]','')"
   ]
  },
  {
   "cell_type": "code",
   "execution_count": 88,
   "metadata": {},
   "outputs": [
    {
     "data": {
      "text/plain": [
       "'this is sentence with 123 and ^&# my email id is abc@gmail.com my phone number is 8971856021 my pincode is 123456'"
      ]
     },
     "execution_count": 88,
     "metadata": {},
     "output_type": "execute_result"
    }
   ],
   "source": [
    "import re\n",
    "pattern = re.compile('[0-9]{10}')\n",
    "sentence = ' '.join(df['text'].values)\n",
    "sentence"
   ]
  },
  {
   "cell_type": "code",
   "execution_count": 89,
   "metadata": {},
   "outputs": [
    {
     "data": {
      "text/plain": [
       "['8971856021']"
      ]
     },
     "execution_count": 89,
     "metadata": {},
     "output_type": "execute_result"
    }
   ],
   "source": [
    "re.findall(pattern = pattern,string = sentence)"
   ]
  },
  {
   "cell_type": "code",
   "execution_count": 108,
   "metadata": {},
   "outputs": [
    {
     "data": {
      "text/plain": [
       "['abc@gmail.com 12344@abc.edu']"
      ]
     },
     "execution_count": 108,
     "metadata": {},
     "output_type": "execute_result"
    }
   ],
   "source": [
    "re.findall(pattern = '.*@.*.edu',string = 'abc@gmail.com 12344@abc.edu')"
   ]
  },
  {
   "cell_type": "markdown",
   "metadata": {},
   "source": [
    "## Click button through selenium"
   ]
  },
  {
   "cell_type": "code",
   "execution_count": 109,
   "metadata": {},
   "outputs": [],
   "source": [
    "from selenium import webdriver"
   ]
  },
  {
   "cell_type": "code",
   "execution_count": 112,
   "metadata": {},
   "outputs": [],
   "source": [
    "browser = webdriver.Chrome('chromedriver.exe')\n",
    "browser.get('https://www.naukri.com/data-science-jobs')\n"
   ]
  },
  {
   "cell_type": "code",
   "execution_count": 113,
   "metadata": {},
   "outputs": [],
   "source": [
    "browser.find_element_by_css_selector('button.grayBtn').click()"
   ]
  },
  {
   "cell_type": "markdown",
   "metadata": {},
   "source": [
    "## Insert text in a serach bar"
   ]
  },
  {
   "cell_type": "code",
   "execution_count": 114,
   "metadata": {},
   "outputs": [],
   "source": [
    "browser.get('https://www.google.com')"
   ]
  },
  {
   "cell_type": "code",
   "execution_count": 115,
   "metadata": {},
   "outputs": [
    {
     "data": {
      "text/plain": [
       "<selenium.webdriver.remote.webelement.WebElement (session=\"c07a3fc1d0301c1542bc52022633ec90\", element=\"0.8402139711338261-1\")>"
      ]
     },
     "execution_count": 115,
     "metadata": {},
     "output_type": "execute_result"
    }
   ],
   "source": [
    "browser.find_element_by_css_selector('input#lst-ib')"
   ]
  },
  {
   "cell_type": "code",
   "execution_count": 116,
   "metadata": {},
   "outputs": [],
   "source": [
    "search_box = browser.find_element_by_css_selector('input#lst-ib')\n",
    "search_box.send_keys('datascience')"
   ]
  },
  {
   "cell_type": "code",
   "execution_count": 119,
   "metadata": {},
   "outputs": [
    {
     "data": {
      "text/plain": [
       "<selenium.webdriver.remote.webelement.WebElement (session=\"c07a3fc1d0301c1542bc52022633ec90\", element=\"0.8402139711338261-2\")>"
      ]
     },
     "execution_count": 119,
     "metadata": {},
     "output_type": "execute_result"
    }
   ],
   "source": [
    "browser.find_element_by_css_selector('input[value=\"Google Search\"]')"
   ]
  },
  {
   "cell_type": "code",
   "execution_count": 121,
   "metadata": {},
   "outputs": [],
   "source": [
    "q = 'input[value=\"Google Search\"][type=\"submit\"]'\n",
    "browser.find_element_by_css_selector(q).click()"
   ]
  },
  {
   "cell_type": "code",
   "execution_count": null,
   "metadata": {},
   "outputs": [],
   "source": []
  },
  {
   "cell_type": "code",
   "execution_count": null,
   "metadata": {},
   "outputs": [],
   "source": []
  },
  {
   "cell_type": "code",
   "execution_count": null,
   "metadata": {},
   "outputs": [],
   "source": []
  }
 ],
 "metadata": {
  "kernelspec": {
   "display_name": "Python 3",
   "language": "python",
   "name": "python3"
  },
  "language_info": {
   "codemirror_mode": {
    "name": "ipython",
    "version": 3
   },
   "file_extension": ".py",
   "mimetype": "text/x-python",
   "name": "python",
   "nbconvert_exporter": "python",
   "pygments_lexer": "ipython3",
   "version": "3.6.4"
  }
 },
 "nbformat": 4,
 "nbformat_minor": 2
}
